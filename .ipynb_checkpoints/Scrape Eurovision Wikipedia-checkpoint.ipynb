{
 "cells": [
  {
   "cell_type": "markdown",
   "metadata": {},
   "source": [
    "# Scrape Wikipedia tables with Eurovision finals information\n",
    "\n",
    "Scrape a table from wikipedia with eurovision final songs information\n",
    "Based on: https://gist.github.com/wassname/5b10774dfcd61cdd3f28\n"
   ]
  },
  {
   "cell_type": "code",
   "execution_count": 37,
   "metadata": {},
   "outputs": [],
   "source": [
    "from bs4 import BeautifulSoup\n",
    "import urllib\n",
    "import os\n",
    "import codecs\n",
    "from pprint import pprint"
   ]
  },
  {
   "cell_type": "code",
   "execution_count": 34,
   "metadata": {},
   "outputs": [],
   "source": []
  },
  {
   "cell_type": "code",
   "execution_count": 163,
   "metadata": {},
   "outputs": [],
   "source": [
    "def scrape_results_table(table, year):\n",
    "\n",
    "    \"\"\"\n",
    "    Processes the html of the table and extracts the results\n",
    "    \"\"\"\n",
    "\n",
    "    rows=table.findAll(\"tr\")    \n",
    "    results = []\n",
    "    \n",
    "    for row in rows:\n",
    "        cells = row.findAll([\"td\",\"th\"])\n",
    "        \n",
    "        if cells[0].text == 'Draw':\n",
    "            continue;\n",
    "        else:\n",
    "            results.append({\n",
    "                'Year' : year,\n",
    "                'Country' : cells[1].text.replace('\\xa0',''),\n",
    "                'Artist' : cells[2].text,\n",
    "                'Song' : cells[3].text.replace('\"',''),\n",
    "                'Language' : cells[4].text,\n",
    "                'Rank' : cells[5].text,\n",
    "                'Points' : cells[6].text if len(cells)>6 else ''\n",
    "            })\n",
    "            \n",
    "    return results"
   ]
  },
  {
   "cell_type": "code",
   "execution_count": 175,
   "metadata": {},
   "outputs": [
    {
     "name": "stdout",
     "output_type": "stream",
     "text": [
      "Processing year 2013\n",
      "  Found 7 table(s) in entire html\n"
     ]
    },
    {
     "ename": "TypeError",
     "evalue": "argument of type 'int' is not iterable",
     "output_type": "error",
     "traceback": [
      "\u001b[0;31m---------------------------------------------------------------------------\u001b[0m",
      "\u001b[0;31mTypeError\u001b[0m                                 Traceback (most recent call last)",
      "\u001b[0;32m<ipython-input-175-6e351dc7fcb8>\u001b[0m in \u001b[0;36m<module>\u001b[0;34m()\u001b[0m\n\u001b[1;32m     24\u001b[0m             \u001b[0mh2_to_search\u001b[0m \u001b[0;34m=\u001b[0m \u001b[0;34m'Participating countries'\u001b[0m\u001b[0;34m\u001b[0m\u001b[0m\n\u001b[1;32m     25\u001b[0m         \u001b[0;32melse\u001b[0m\u001b[0;34m:\u001b[0m\u001b[0;34m\u001b[0m\u001b[0m\n\u001b[0;32m---> 26\u001b[0;31m             \u001b[0;32mif\u001b[0m \u001b[0myear\u001b[0m \u001b[0;32min\u001b[0m \u001b[0;34m(\u001b[0m\u001b[0;36m2015\u001b[0m\u001b[0;34m)\u001b[0m\u001b[0;34m:\u001b[0m\u001b[0;34m\u001b[0m\u001b[0m\n\u001b[0m\u001b[1;32m     27\u001b[0m                 \u001b[0mh2_to_search\u001b[0m \u001b[0;34m=\u001b[0m \u001b[0;34m'Participants'\u001b[0m\u001b[0;34m\u001b[0m\u001b[0m\n\u001b[1;32m     28\u001b[0m \u001b[0;34m\u001b[0m\u001b[0m\n",
      "\u001b[0;31mTypeError\u001b[0m: argument of type 'int' is not iterable"
     ]
    }
   ],
   "source": [
    "all_results = []\n",
    "\n",
    "for year in range(2013,2018):\n",
    "    \n",
    "    print('Processing year',year)\n",
    "\n",
    "    wikipage = 'https://en.wikipedia.org/wiki/Eurovision_Song_Contest_{}'.format(year)\n",
    "\n",
    "    header = {'User-Agent': 'Mozilla/5.0'} # header needed to prevent 403 error on Wikipedia\n",
    "    req = urllib.request.Request(wikipage) #, headers = header)\n",
    "    res = urllib.request.urlopen(req)\n",
    "    soup = BeautifulSoup(res, \"lxml\")\n",
    "\n",
    "    # get tables\n",
    "    tables = soup.findAll(\"table\", { \"class\" : [\"sortable wikitable\", \"wikitable sortable\"] })\n",
    "\n",
    "    print('  Found {} table(s) in entire html'.format(len(tables)))\n",
    "\n",
    "    # loop tables\n",
    "    for t in tables:\n",
    "        \n",
    "        h2_to_search = 'Results'\n",
    "        if year in (2006, 2007, 2009, 2010, 2011, 2012, 2016, 2017):\n",
    "            h2_to_search = 'Participating countries'\n",
    "        if year in (2015):\n",
    "            h2_to_search = 'Participants'\n",
    "        \n",
    "        # get the tables in the h2 'Results'\n",
    "        previous_h2 = t.findPreviousSiblings(u'h2')[0]\n",
    "        if previous_h2.next_element.text == h2_to_search:\n",
    "            table_results = scrape_results_table(t, year)\n",
    "\n",
    "            # check country X is in the list (sanity check that the right table was read)\n",
    "            country = 'Germany'\n",
    "            if not any(r['Country'] == country for r in table_results):\n",
    "                print('  {} MISSING! Processing next table'.format(country))\n",
    "                continue\n",
    "            else:\n",
    "                all_results.extend(table_results)\n",
    "                print('  Processed table with {} rows'.format(len(table_results)))\n",
    "                break\n"
   ]
  },
  {
   "cell_type": "code",
   "execution_count": 128,
   "metadata": {},
   "outputs": [
    {
     "data": {
      "text/plain": [
       "[{'Artist': 'Song',\n",
       "  'Country': 'Country',\n",
       "  'Language': 'Final result',\n",
       "  'Points': '',\n",
       "  'Rank': 'Points',\n",
       "  'Song': 'Performer(s)',\n",
       "  'Year': 2002},\n",
       " {'Artist': '\"Never Let It Go\"',\n",
       "  'Country': 'Sweden',\n",
       "  'Language': '8th',\n",
       "  'Points': '',\n",
       "  'Rank': '72',\n",
       "  'Song': 'Afro-dite',\n",
       "  'Year': 2002},\n",
       " {'Artist': '\"Addicted to You\"',\n",
       "  'Country': 'Finland',\n",
       "  'Language': '20th',\n",
       "  'Points': '',\n",
       "  'Rank': '24',\n",
       "  'Song': 'Laura Voutilainen',\n",
       "  'Year': 2002},\n",
       " {'Artist': '\"Il faut du temps\"',\n",
       "  'Country': 'France',\n",
       "  'Language': '5th',\n",
       "  'Points': '',\n",
       "  'Rank': '104',\n",
       "  'Song': 'Sandrine François',\n",
       "  'Year': 2002}]"
      ]
     },
     "execution_count": 128,
     "metadata": {},
     "output_type": "execute_result"
    }
   ],
   "source": [
    "all_results"
   ]
  },
  {
   "cell_type": "code",
   "execution_count": 124,
   "metadata": {},
   "outputs": [],
   "source": [
    "# save to csv\n",
    "import csv\n",
    "keys = all_results[0].keys()\n",
    "with open('finals_results.csv', 'w') as output_file:\n",
    "    w = csv.DictWriter(output_file, keys)\n",
    "    w.writeheader()\n",
    "    w.writerows(all_results)"
   ]
  },
  {
   "cell_type": "code",
   "execution_count": null,
   "metadata": {},
   "outputs": [],
   "source": []
  }
 ],
 "metadata": {
  "kernelspec": {
   "display_name": "Python 3",
   "language": "python",
   "name": "python3"
  },
  "language_info": {
   "codemirror_mode": {
    "name": "ipython",
    "version": 3
   },
   "file_extension": ".py",
   "mimetype": "text/x-python",
   "name": "python",
   "nbconvert_exporter": "python",
   "pygments_lexer": "ipython3",
   "version": "3.5.2"
  }
 },
 "nbformat": 4,
 "nbformat_minor": 2
}
