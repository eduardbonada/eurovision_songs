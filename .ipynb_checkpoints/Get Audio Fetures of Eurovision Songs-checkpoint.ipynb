{
 "cells": [
  {
   "cell_type": "markdown",
   "metadata": {},
   "source": [
    "# Get Audio Fetures of Eurovision Songs"
   ]
  },
  {
   "cell_type": "code",
   "execution_count": 1,
   "metadata": {},
   "outputs": [
    {
     "data": {
      "text/html": [
       "<style>.container { width:100% !important; }</style>"
      ],
      "text/plain": [
       "<IPython.core.display.HTML object>"
      ]
     },
     "metadata": {},
     "output_type": "display_data"
    }
   ],
   "source": [
    "from IPython.core.display import display, HTML\n",
    "display(HTML(\"<style>.container { width:100% !important; }</style>\"))"
   ]
  },
  {
   "cell_type": "code",
   "execution_count": 2,
   "metadata": {},
   "outputs": [],
   "source": [
    "import csv\n",
    "import json\n",
    "import pandas as pd\n",
    "import numpy as np\n",
    "from pprint import pprint\n",
    "import os.path\n",
    "import matplotlib.pyplot as plt\n",
    "%matplotlib nbagg\n",
    "#inline\n",
    "plt.style.use('seaborn-deep')"
   ]
  },
  {
   "cell_type": "code",
   "execution_count": 3,
   "metadata": {},
   "outputs": [],
   "source": [
    "# Create spotify wrapper object\n",
    "\n",
    "from spotify_wrapper import SpotifyWrapper\n",
    "sp = SpotifyWrapper(client_id = '9b23e599c83f45d9a93e6559d79b3f4a', \n",
    "                    client_secret = '710a69f7a7984a6c9c71c1682c46d7b5')"
   ]
  },
  {
   "cell_type": "markdown",
   "metadata": {},
   "source": [
    "## Get songs spotify IDs"
   ]
  },
  {
   "cell_type": "code",
   "execution_count": 53,
   "metadata": {},
   "outputs": [],
   "source": [
    "# read csv with all songs in finals \n",
    "songs = []\n",
    "with open('finalist_songs_with_ids.csv') as csv_file:\n",
    "    songs = [{k: v for k, v in row.items()} for row in csv.DictReader(csv_file, skipinitialspace=True)]"
   ]
  },
  {
   "cell_type": "code",
   "execution_count": 20,
   "metadata": {
    "collapsed": true
   },
   "outputs": [
    {
     "name": "stdout",
     "output_type": "stream",
     "text": [
      "Count of songs with id: 339\n",
      "0 FOUND 1 1: Olta Boka - Zemrën e lamë peng | Olta Boka - Zemrën E Lamë Peng\n",
      "1 NOT FOUND: No Angels - Disappear\n",
      "2 NOT FOUND: Sirusho - Qélé, Qélé (Քելե Քելե)\n",
      "3 NOT FOUND: Laka - Pokušaj\n",
      "4 NOT FOUND: Boaz Ma'uda - The Fire in Your Eyes\n",
      "5 FOUND 1 1: Teräsbetoni - Missä miehet ratsastaa | Teräsbetoni - Missä miehet ratsastaa\n",
      "6 NOT FOUND: Kraljevi Ulice and 75 cents - Romanca\n",
      "7 FOUND 1 0: Isis Gee - For Life | Isis Gee - FOR LIFE - Radio Edit\n",
      "8 FOUND 1 0: Euroband - This Is My Life | Euroband - This Is My Life (Iceland Eurovision 2008) Orginal\n",
      "9 FOUND 1 1: Mor ve Ötesi - Deli | mor ve ötesi - Deli\n",
      "10 FOUND 1 1: Vânia Fernandes - Senhora do mar (Negras águas) | Vânia Fernandes - Senhora Do Mar (Negras Águas)\n",
      "11 NOT FOUND: Pirates of the Sea - Wolves of the Sea\n",
      "12 FOUND 1 1: Charlotte Perrelli - Hero | Charlotte Perrelli - Hero\n",
      "13 NOT FOUND: Simon Mathew - All Night Long\n",
      "14 NOT FOUND: Diana Gurtskaya - Peace Will Come\n",
      "15 NOT FOUND: Ani Lorak - Shady Lady\n",
      "16 FOUND 1 1: Sébastien Tellier - Divine | Sébastien Tellier - Divine\n",
      "17 NOT FOUND: Elnur and Samir - Day After Day\n",
      "18 FOUND 1 1: Kalomira - Secret Combination | Kalomira - Secret Combination\n",
      "19 FOUND 1 0: Rodolfo Chikilicuatre - Baila el Chiki-chiki | Rodolfo Chikilicuatre - Baila el Chiki Chiki\n",
      "20 NOT FOUND: Jelena Tomašević feat. Bora Dugić - Oro (Оро)\n",
      "21 NOT FOUND: Dima Bilan - Believe\n",
      "22 NOT FOUND: Maria Haukaas Storeng - Hold On Be Strong\n",
      "23 NOT FOUND: Sasha Son - Love\n",
      "24 NOT FOUND: Noa and Mira Awad - There Must Be Another Way\n",
      "25 FOUND 1 1: Patricia Kaas - Et s'il fallait le faire | Patricia Kaas - Et S'il Fallait Le Faire\n",
      "26 FOUND 1 1: Malena Ernman - La voix | Malena Ernman - La Voix\n",
      "27 NOT FOUND: Igor Cukrov feat. Andrea - Lijepa Tena\n",
      "28 FOUND 1 1: Flor-de-Lis - Todas as ruas do amor | Flor-de-Lis - Todas as Ruas do Amor\n",
      "29 NOT FOUND: Yohanna[69] - Is It True?\n",
      "30 FOUND 1 1: Sakis Rouvas - This Is Our Night | Sakis Rouvas - This Is Our Night\n",
      "31 NOT FOUND: Inga and Anush - Jan Jan (Ջան Ջան)\n",
      "32 NOT FOUND: Anastasiya Prikhodko - Mamo (Мамо)\n",
      "33 NOT FOUND: AySel and Arash[74] - Always\n",
      "34 FOUND 1 1: Regina - Bistra voda | Regina - Bistra voda\n",
      "35 NOT FOUND: Nelly Ciobanu - Hora din Moldova\n",
      "36 FOUND 1 0: Chiara - What If We | Chiara - What If We - ESC 2009\n",
      "37 FOUND 1 1: Urban Symphony - Rändajad | Urban Symphony - Rändajad\n",
      "38 NOT FOUND: Niels Brinck - Believe Again\n",
      "39 NOT FOUND: Alex Swings Oscar Sings![75] - Miss Kiss Kiss Bang\n",
      "40 FOUND 1 1: Hadise - Düm Tek Tek | Hadise - Düm Tek Tek\n",
      "41 NOT FOUND: Kejsi Tola - Carry Me in Your Dreams\n",
      "42 FOUND 1 1: Alexander Rybak - Fairytale | Alexander Rybak - Fairytale\n",
      "43 NOT FOUND: Svetlana Loboda - Be My Valentine\n",
      "44 FOUND 1 1: Elena - The Balkan Girls | Elena - The Balkan Girls\n",
      "45 NOT FOUND: Jade Ewen - It's My Time\n",
      "46 FOUND 1 0: Waldo's People - Lose Control | Waldo's People - Lose Control - Radio Edit\n",
      "47 NOT FOUND: Soraya Arnelas - La noche es para mí\n",
      "48 FOUND 1 1: Safura - Drip Drop | Safura - Drip Drop\n",
      "49 FOUND 1 1: Daniel Diges - Algo Pequeñito | Daniel Diges - Algo pequeñito\n",
      "50 FOUND 1 1: Didrik Solli-Tangen - My Heart Is Yours | Didrik Solli-Tangen - My Heart Is Yours\n",
      "51 NOT FOUND: SunStroke Project and Olia Tira - Run Away\n",
      "52 FOUND 1 1: Jon Lilygreen and The Islanders - Life Looks Better in Spring | Jon Lilygreen And The Islanders - Life Looks Better In Spring\n",
      "53 NOT FOUND: Vukašin Brajić - Thunder and Lightning\n",
      "54 FOUND 1 1: Tom Dice - Me and My Guitar | Tom Dice - Me And My Guitar\n",
      "55 NOT FOUND: Milan Stanković - Ovo je Balkan (Oво je Балкан)\n",
      "56 NOT FOUND: 3+2 feat Robert Wells - Butterflies\n",
      "57 NOT FOUND: Niamh Kavanagh - It's for You\n",
      "58 NOT FOUND: Giorgos Alkaios and Friends - OPA (ΩΠΑ)\n",
      "59 NOT FOUND: Josh Dubovie - That Sounds Good to Me\n",
      "60 FOUND 1 1: Sofia Nizharadze - Shine | Sofia Nizharadze - Shine\n",
      "61 FOUND 1 1: maNga - We Could Be the Same | maNga - We Could Be the Same\n",
      "62 NOT FOUND: Juliana Pasha - It's All About You\n",
      "63 FOUND 1 1: Hera Björk - Je ne sais quoi | Hera Björk - Je Ne Sais Quoi\n",
      "64 FOUND 1 1: Alyosha - Sweet People | Alyosha - Sweet People\n",
      "65 FOUND 1 1: Jessy Matador - Allez Ola Olé | Jessy Matador - Allez Ola Olé\n",
      "66 NOT FOUND: Paula Seling and Ovi - Playing with Fire\n",
      "67 NOT FOUND: Peter Nalitch and Friends - Lost and Forgotten\n",
      "68 NOT FOUND: Eva Rivas - Apricot Stone\n",
      "69 FOUND 1 1: Lena - Satellite | Lena - Satellite\n",
      "70 NOT FOUND: Filipa Azevedo - Há dias assim\n",
      "71 NOT FOUND: Harel Skaat - Milim (מילים)\n",
      "72 NOT FOUND: Chanée and N'evergreen - In a Moment Like This\n",
      "73 FOUND 1 1: Paradise Oskar - Da Da Dam | Paradise Oskar - Da Da Dam\n",
      "74 FOUND 1 1: Dino Merlin - Love in Rewind | Dino Merlin - Love In Rewind\n",
      "75 FOUND 1 1: A Friend in London - New Tomorrow | A Friend In London - New Tomorrow\n",
      "76 NOT FOUND: Evelina Sašenko - C'est ma vie\n",
      "77 NOT FOUND: Kati Wolf - What About My Dreams?\n",
      "78 NOT FOUND: Jedward - Lipstick\n",
      "79 FOUND 1 1: Eric Saade - Popular | Eric Saade - Popular\n",
      "80 FOUND 1 1: Getter Jaani - Rockefeller Street | Getter Jaani - Rockefeller Street\n",
      "81 NOT FOUND: Loukas Giorkas feat. Stereo Mike - Watch My Dance\n",
      "82 NOT FOUND: Alexey Vorobyov - Get You\n",
      "83 FOUND 1 1: Amaury Vassili - Sognu | Amaury Vassili - Sognu\n",
      "84 FOUND 1 1: Raphael Gualazzi - Madness of Love | Raphael Gualazzi - Madness of Love\n",
      "85 FOUND 1 0: Anna Rossinelli - In Love for a While | Anna Rossinelli - In Love For A While - Radio Version\n",
      "86 NOT FOUND: Blue - I Can\n",
      "87 NOT FOUND: Zdob şi Zdub - So Lucky\n",
      "88 NOT FOUND: Lena - Taken by a Stranger\n",
      "89 NOT FOUND: Hotel FM - Change\n",
      "90 FOUND 1 1: Nadine Beiler - The Secret Is Love | Nadine Beiler - The Secret is Love\n",
      "91 NOT FOUND: Ell & Nikki - Running Scared\n",
      "92 FOUND 1 1: Maja Keuc - No One | Maja Keuc - No One\n",
      "93 NOT FOUND: Sjonni's Friends - Coming Home\n",
      "94 NOT FOUND: Lucía Pérez - Que me quiten lo bailao\n",
      "95 NOT FOUND: Mika Newton - Angel\n",
      "96 NOT FOUND: Nina - Čaroban (Чаробан)\n",
      "97 FOUND 1 1: Eldrine - One More Day | Eldrine - One More Day\n",
      "98 FOUND 1 1: Engelbert Humperdinck - Love Will Set You Free | Engelbert Humperdinck - Love Will Set You Free\n",
      "99 FOUND 1 1: Compact Disco - Sound of Our Hearts | Compact Disco - Sound of Our Hearts\n",
      "100 NOT FOUND: Rona Nishliu - Suus3\n",
      "101 NOT FOUND: Donny Montell - Love Is Blind\n",
      "102 FOUND 1 1: Maya Sar - Korake ti znam | Maya Sar - Korake Ti Znam\n",
      "103 NOT FOUND: Buranovskiye Babushki - Party for Everybody\n",
      "104 NOT FOUND: Greta Salóme and Jónsi - Never Forget\n",
      "105 NOT FOUND: Ivi Adamou - La La Love\n",
      "106 FOUND 1 1: Anggun - Echo (You and I) | Anggun - Echo (You and I)\n",
      "107 NOT FOUND: Nina Zilli - L'amore è femmina (Out of Love)\n",
      "108 FOUND 1 1: Ott Lepland - Kuula | Ott Lepland - Kuula\n",
      "109 FOUND 1 1: Tooji - Stay | Tooji - Stay\n",
      "110 FOUND 1 1: Sabina Babayeva - When the Music Dies | Sabina Babayeva - When the music dies\n",
      "111 FOUND 1 1: Mandinga - Zaleilah | Mandinga - Zaleilah\n",
      "112 NOT FOUND: Soluna Samay - Should've Known Better\n",
      "113 FOUND 1 1: Eleftheria Eleftheriou - Aphrodisiac | Eleftheria Eleftheriou - Aphrodisiac\n",
      "114 FOUND 1 0: Loreen - Euphoria | Loreen - Euphoria - Single Version\n",
      "115 FOUND 1 1: Can Bonomo - Love Me Back | Can Bonomo - Love Me Back\n",
      "116 FOUND 1 0: Pastora Soler - Quédate conmigo | Pastora Soler - Quédate conmigo - Versión Baku\n",
      "117 FOUND 1 1: Roman Lob - Standing Still | Roman Lob - Standing Still\n",
      "118 FOUND 1 0: Kurt Calleja - This Is the Night | Kurt Calleja - This Is The Night - ESC 2012\n",
      "119 NOT FOUND: Kaliopi - Crno i belo (Црно и бело)\n",
      "120 FOUND 1 1: Jedward - Waterline | Jedward - Waterline\n",
      "121 NOT FOUND: Željko Joksimović - Nije ljubav stvar (Није љубав ствар)\n",
      "122 NOT FOUND: Gaitana - Be My Guest\n",
      "123 NOT FOUND: Pasha Parfeny - Lăutar\n",
      "124 FOUND 1 1: Amandine Bourgeois - L'enfer et moi | Amandine Bourgeois - L'enfer et moi\n",
      "125 FOUND 1 1: Andrius Pojavis - Something | Andrius Pojavis - Something\n",
      "126 FOUND 1 1: Aliona Moon - O mie | Aliona Moon - O Mie\n",
      "127 NOT FOUND: Krista Siegfrids - Marry Me\n",
      "128 NOT FOUND: ESDM - Contigo hasta el final\n",
      "129 FOUND 1 1: Roberto Bellarosa - Love Kills | Roberto Bellarosa - Love Kills\n",
      "130 FOUND 1 0: Birgit - Et uus saaks alguse | Birgit - Et Uus Saaks Alguse (Estonian Eurovision Entry 2013)\n",
      "131 FOUND 1 1: Alyona Lanskaya - Solayoh | Alyona Lanskaya - Solayoh\n",
      "132 NOT FOUND: Gianluca - Tomorrow\n",
      "133 NOT FOUND: Dina Garipova - What If\n"
     ]
    },
    {
     "name": "stdout",
     "output_type": "stream",
     "text": [
      "134 FOUND 1 0: Cascada - Glorious | Cascada - Glorious - Video Edit\n",
      "135 NOT FOUND: Dorians - Lonely Planet\n",
      "136 FOUND 1 1: Anouk - Birds | Anouk - Birds\n",
      "137 NOT FOUND: Cezar - It's My Life\n",
      "138 NOT FOUND: Bonnie Tyler - Believe in Me\n",
      "139 FOUND 1 0: Robin Stjernberg - You | Robin Stjernberg - Locked Into You\n",
      "140 FOUND 1 0: ByeAlex - Kedvesem (Zoohacker Remix) | ByeAlex - Kedvesem - Zoohacker Remix\n",
      "141 NOT FOUND: Emmelie de Forest - Only Teardrops\n",
      "142 FOUND 1 0: Eythor Ingi - Ég á líf | Eythor Ingi - Eg a Lif (Icelandic Esc Entry 2013)\n",
      "143 FOUND 1 0: Farid Mammadov - Hold Me | Farid Mammadov - Hold me - Full Version\n",
      "144 NOT FOUND: Koza Mostra feat. Agathon Iakovidis - Alcohol Is Free\n",
      "145 FOUND 1 0: Zlata Ognevich - Gravity | Zlata Ognevich - Gravity Remix - Radio Edit\n",
      "146 FOUND 1 1: Marco Mengoni - L'essenziale | Marco Mengoni - L'essenziale\n",
      "147 FOUND 1 1: Margaret Berger - I Feed You My Love | Margaret Berger - I Feed You My Love\n",
      "148 NOT FOUND: Nodi Tatishvili and Sophie Gelovani - Waterfall\n",
      "149 FOUND 1 1: Ryan Dolan - Only Love Survives | Ryan Dolan - Only Love Survives\n",
      "150 FOUND 1 0: Mariya Yaremchuk - Tick-Tock | Mariya Yaremchuk - Tick Tock\n",
      "151 FOUND 1 1: Teo - Cheesecake | Teo - Cheesecake\n",
      "152 FOUND 1 0: Dilara Kazimova - Start a Fire | Dilara Kazimova - Start A Fire - Full Eurovision Version\n",
      "153 FOUND 1 1: Pollapönk - No Prejudice | Pollapönk - No Prejudice\n",
      "154 NOT FOUND: Carl Espen - Silent Storm\n",
      "155 FOUND 1 0: Paula Seling & Ovi - Miracle | Paula Seling & Ovi - Miracle - Karaoke Version\n",
      "156 NOT FOUND: Aram MP3 - Not Alone\n",
      "157 NOT FOUND: Sergej Ćetković - Moj svijet (Мој свијет)\n",
      "158 NOT FOUND: Donatan & Cleo - My Słowianie – We Are Slavic\n",
      "159 NOT FOUND: Freaky Fortune feat. RiskyKidd - Rise Up\n",
      "160 FOUND 1 1: Conchita Wurst - Rise Like a Phoenix | Conchita Wurst - Rise Like A Phoenix\n",
      "161 FOUND 1 1: Elaiza - Is It Right | Elaiza - Is It Right\n",
      "162 FOUND 1 1: Sanna Nielsen - Undo | Sanna Nielsen - Undo\n",
      "163 FOUND 1 1: TWIN TWIN - Moustache | Twin Twin - Moustache\n",
      "164 NOT FOUND: Tolmachevy Sisters - Shine\n",
      "165 NOT FOUND: Emma - La mia città\n",
      "166 FOUND 1 0: Tinkara Kovač - Round and Round | Tinkara Kovač - Round and Round - Official ESC\n",
      "167 FOUND 1 1: Softengine - Something Better | Softengine - Something Better\n",
      "168 FOUND 1 0: Ruth Lorenzo - Dancing in the Rain | Ruth Lorenzo - Dancing in the Rain - Official Eurovision 2014 - Spain\n",
      "169 FOUND 1 1: Sebalter - Hunter of Stars | Sebalter - Hunter of Stars\n",
      "170 NOT FOUND: András Kállay-Saunders - Running\n",
      "171 FOUND 1 1: Firelight - Coming Home | FireLight - Coming Home\n",
      "172 FOUND 1 0: Basim - Cliché Love Song | Basim - Cliche Love Song - Radio Edit\n",
      "173 FOUND 1 0: The Common Linnets - Calm After the Storm | The Common Linnets - Calm After The Storm - Radio Edit\n",
      "174 NOT FOUND: Valentina Monetta - Maybe\n",
      "175 NOT FOUND: Molly - Children of the Universe\n",
      "176 FOUND 1 1: Maraaya - Here for You | Maraaya - Here For You\n",
      "177 FOUND 1 1: Lisa Angell - N'oubliez pas | Lisa Angell - N'oubliez pas\n",
      "178 FOUND 1 1: Nadav Guedj - Golden Boy | Nadav Guedj - Golden Boy\n",
      "179 NOT FOUND: Elina Born & Stig Rästa - Goodbye to Yesterday\n",
      "180 FOUND 1 1: Electro Velvet - Still in Love with You | Electro Velvet - Still in Love with You\n",
      "181 FOUND 1 0: Genealogy - Face the Shadow | Genealogy - Face The Shadow - Eurovision 2015 / Armenia\n",
      "182 NOT FOUND: Monika Linkytė & Vaidas Baumila - This Time\n",
      "183 FOUND 1 0: Bojana Stamenov - Beauty Never Lies | Bojana Stamenov - Beauty Never Lies - Eurovision 2015 - Serbia\n",
      "184 NOT FOUND: Mørland & Debrah Scarlett - A Monster Like Me\n",
      "185 FOUND 1 1: Måns Zelmerlöw - Heroes | Måns Zelmerlöw - Heroes\n",
      "186 FOUND 1 0: John Karayiannis - One Thing I Should Have Done | John Karayiannis - One Thing I Should Have Done - Promo Mix\n",
      "187 FOUND 1 1: Guy Sebastian - Tonight Again | Guy Sebastian - Tonight Again\n",
      "188 FOUND 1 1: Loïc Nottet - Rhythm Inside | Loïc Nottet - Rhythm Inside\n",
      "189 FOUND 1 1: The Makemakes - I Am Yours | The Makemakes - I Am Yours\n",
      "190 FOUND 1 0: Maria Elena Kyriakou - One Last Breath | Maria Elena Kyriakou - One Last Breath - Eurovision Version\n",
      "191 FOUND 1 0: Knez - Adio | Knez - Adio - Eurovision 2015 - Montenegro\n",
      "192 FOUND 1 0: Ann Sophie - Black Smoke | Ann Sophie - Black Smoke - Eurovision 2015 - Germany\n",
      "193 FOUND 1 1: Monika Kuszyńska - In the Name of Love | Monika Kuszynska - In The Name Of Love\n",
      "194 FOUND 1 1: Aminata - Love Injected | Aminata - Love Injected\n",
      "195 FOUND 1 0: Voltaj - De la capăt | Voltaj - De La Capat - Eurovision Version\n",
      "196 FOUND 1 1: Edurne - Amanecer | Edurne - Amanecer\n",
      "197 FOUND 1 1: Boggie - Wars for Nothing | Boggie - Wars for Nothing\n",
      "198 FOUND 1 0: Nina Sublatti - Warrior | Nina Sublatti - Warrior - Eurovision 2015 - Georgia\n",
      "199 FOUND 1 0: Elnur Huseynov - Hour of the Wolf | Elnur Huseynov - Hour Of The Wolf - Eurovision 2015 - Azerbaijan\n",
      "200 NOT FOUND: Polina Gagarina - A Million Voices\n",
      "201 FOUND 1 0: Elhaida Dani - I'm Alive | Elhaida Dani - I'm Alive - Eurovision 2015 - Albania\n",
      "202 FOUND 1 1: Il Volo - Grande amore | Il Volo - Grande amore\n",
      "203 FOUND 1 1: Laura Tesoro - What's the Pressure | Laura Tesoro - What's the Pressure\n",
      "204 FOUND 1 1: Gabriela Gunčíková - I Stand | Gabriela Guncikova - I Stand\n",
      "205 FOUND 1 1: Douwe Bob - Slow Down | Douwe Bob - Slow Down\n",
      "206 FOUND 1 0: Samra - Miracle | Samra - Miracle - Eurovision 2016\n",
      "207 FOUND 1 1: Freddie - Pioneer | Freddie - Pioneer\n",
      "208 FOUND 1 0: Francesca Michielin - No Degree of Separation | Francesca Michielin - No Degree of Separation - Eurovision Version\n",
      "209 FOUND 1 1: Hovi Star - Made of Stars | Hovi Star - Made of Stars\n",
      "210 NOT FOUND: Poli Genova - If Love Was a Crime\n",
      "211 FOUND 1 1: Frans - If I Were Sorry | Frans - If I Were Sorry\n",
      "212 NOT FOUND: Jamie-Lee - Ghost\n",
      "213 FOUND 1 1: Amir - J'ai cherché | Amir - J'ai cherché\n",
      "214 NOT FOUND: Michał Szpak - Color of Your Life\n",
      "215 FOUND 1 1: Dami Im - Sound of Silence | Dami Im - Sound of Silence\n",
      "216 NOT FOUND: Minus One - Alter Ego\n",
      "217 NOT FOUND: Sanja Vučić ZAA - Goodbye (Shelter)\n",
      "218 FOUND 1 1: Donny Montell - I've Been Waiting for This Night | Donny Montell - I've Been Waiting for This Night\n",
      "219 FOUND 1 0: Nina Kraljić - Lighthouse | Nina Kraljic - Lighthouse - Eurovision 2016 - Croatia\n",
      "220 FOUND 1 1: Sergey Lazarev - You Are the Only One | Sergey Lazarev - You are the only one\n",
      "221 FOUND 1 0: Barei - Say Yay! | Barei - Say Yay! - Eurovision Spain - 2016\n",
      "222 FOUND 1 0: Justs - Heartbeat | Justs - Heartbeat (Ex da Bass Radio Mix)\n",
      "223 FOUND 1 1: Jamala - 1944 | Jamala - 1944\n",
      "224 FOUND 1 1: Ira Losco - Walk on Water | Ira Losco - Walk On Water\n",
      "225 NOT FOUND: Nika Kocharov & Young Georgian Lolitaz - Midnight Gold\n",
      "226 FOUND 1 0: Zoë - Loin d'ici | ZOË - Loin d’ici (Esc Version)\n",
      "227 FOUND 1 1: Joe and Jake - You're Not Alone | Joe and Jake - You're Not Alone\n",
      "228 NOT FOUND: Iveta Mukuchyan - LoveWave\n",
      "229 FOUND 1 1: IMRI - I Feel Alive | IMRI - I Feel Alive\n",
      "230 FOUND 1 1: Kasia Moś - Flashlight | Kasia Mos - Flashlight\n",
      "231 NOT FOUND: Naviband - Story of My Life\n",
      "232 FOUND 1 1: Nathan Trent - Running on Air | Nathan Trent - Running On Air\n",
      "233 FOUND 1 1: Artsvik - Fly with Me | Artsvik - Fly With Me\n",
      "234 NOT FOUND: O'G3NE - Lights and Shadows\n",
      "235 FOUND 1 0: Sunstroke Project - Hey, Mamma! | Sunstroke Project - Hey Mamma - Radio Edit\n",
      "236 NOT FOUND: Joci Pápai - Origo\n",
      "237 FOUND 1 0: Francesco Gabbani - Occidentali's Karma | Francesco Gabbani - Occidentali's Karma - Radio Edit\n",
      "238 NOT FOUND: Anja - Where I Am\n",
      "239 FOUND 1 1: Salvador Sobral - Amar pelos dois | Salvador Sobral - Amar pelos Dois\n",
      "240 FOUND 1 1: Dihaj - Skeletons | Dihaj - Skeletons\n",
      "241 FOUND 1 1: Jacques Houdek - My Friend | Jacques Houdek - MY FRIEND\n",
      "242 FOUND 1 1: Isaiah - Don't Come Easy | Isaiah - Don't Come Easy\n",
      "243 FOUND 1 1: Demy - This Is Love | Demy - This Is Love\n",
      "244 FOUND 1 0: Manel Navarro - Do It for Your Lover | Manel Navarro - Do It for Your Lover - Eurovision 2017\n",
      "245 NOT FOUND: JOWST[d] - Grab the Moment\n",
      "246 FOUND 1 1: Lucie Jones - Never Give Up on You | Lucie Jones - Never Give up on You\n",
      "247 FOUND 1 1: Hovig - Gravity | Hovig - Gravity\n",
      "248 NOT FOUND: Ilinca ft. Alex Florea - Yodel It!\n",
      "249 FOUND 1 1: Levina - Perfect Life | Levina - Perfect Life\n",
      "250 FOUND 1 1: O.Torvald - Time | O.Torvald - Time\n",
      "251 FOUND 1 0: Blanche - City Lights | Blanche - City Lights - Acoustic\n"
     ]
    },
    {
     "name": "stdout",
     "output_type": "stream",
     "text": [
      "252 FOUND 1 0: Robin Bengtsson - I Can't Go On | Robin Bengtsson - I Can´t Go On\n",
      "253 FOUND 1 1: Kristian Kostov - Beautiful Mess | Kristian Kostov - Beautiful Mess\n",
      "254 FOUND 1 1: Alma - Requiem | Alma - Requiem\n"
     ]
    }
   ],
   "source": [
    "# count songs with id\n",
    "count_songs_with_id = sum([ (1 if s['id']!='' else 0) for s in songs])\n",
    "print('Count of songs with id:',count_songs_with_id)\n",
    "\n",
    "# get spotify song ids\n",
    "for i,s in enumerate(songs[1000:]):\n",
    "        \n",
    "    # only search those songs without id\n",
    "    if s['id']=='':\n",
    "        \n",
    "        # search song info\n",
    "        song_info = sp.search_song(s['Artist'], s['Song'])\n",
    "        \n",
    "        # process received info\n",
    "        if song_info == None:\n",
    "            print('{} NOT FOUND: {} - {}'.format(i, s['Artist'], s['Song']))\n",
    "\n",
    "        else:\n",
    "            \n",
    "            # sanity checks\n",
    "            check_artist = 1 if sp.remove_accents(s['Artist'].lower()) == sp.remove_accents(song_info['artists'][0]['name'].lower()) else 0\n",
    "            check_title = 1 if sp.remove_accents(s['Song'].lower()) == sp.remove_accents(song_info['name'].lower()) else 0\n",
    "            \n",
    "            print('{} FOUND {} {}: {} - {} | {} - {}'.format(i, check_artist, check_title, \n",
    "                                                            s['Artist'], s['Song'], \n",
    "                                                            song_info['artists'][0]['name'], song_info['name']))\n",
    "\n",
    "            # store id in original object dictionary\n",
    "            s['id'] = song_info['id']\n",
    "\n",
    "            # store song with id in csv file\n",
    "            keys = s.keys()\n",
    "            with open('finalist_songs_with_ids.csv', 'w') as output_file:\n",
    "                w = csv.DictWriter(output_file, keys)\n",
    "                w.writeheader()\n",
    "                w.writerows(songs)"
   ]
  },
  {
   "cell_type": "code",
   "execution_count": 18,
   "metadata": {},
   "outputs": [
    {
     "name": "stdout",
     "output_type": "stream",
     "text": [
      "q= artist:Imaani\n",
      "Incognito - Love Born In Flames (feat. Imaani & Stuart Zender)\n",
      "Imaani - Found My Light - The Layabouts Vocal Mix\n",
      "The Layabouts - Shine - The Layabouts Vocal Mix\n",
      "The Layabouts - Stay - The Layabouts Vocal Mix\n",
      "Copyright - Wizeman (feat. Imaani) - Peaktime Vocal\n",
      "The Layabouts - Shine - The Layabouts Vocal Mix\n",
      "Reel People - Amazing featuring Tony Momrelle & Imaani\n",
      "Imaani - Live Without Love - 123.5BPM\n",
      "Imaani - Found My Light - 122BPM\n",
      "Imaani - Found My Light - Acoustic Mix\n"
     ]
    }
   ],
   "source": [
    "# Explore particular song\n",
    "track = ''\n",
    "artist = 'Imaani'\n",
    "q = ('track:'+track if track != '' else '') + (' artist:'+artist if artist != '' else '')\n",
    "print('q='+q)\n",
    "for t in (sp.sp.search(q=q, type='track'))['tracks']['items']:\n",
    "    print(t['artists'][0]['name'] + ' - ' + t['name'])"
   ]
  },
  {
   "cell_type": "markdown",
   "metadata": {},
   "source": [
    "## Explore available songs"
   ]
  },
  {
   "cell_type": "code",
   "execution_count": 60,
   "metadata": {},
   "outputs": [],
   "source": [
    "# create dataframe\n",
    "songs_df = pd.DataFrame(songs)"
   ]
  },
  {
   "cell_type": "code",
   "execution_count": 63,
   "metadata": {},
   "outputs": [
    {
     "data": {
      "text/plain": [
       "491"
      ]
     },
     "execution_count": 63,
     "metadata": {},
     "output_type": "execute_result"
    }
   ],
   "source": [
    "# number of songs with id\n",
    "songs_df[songs_df['id'] != '']['Artist'].count()"
   ]
  },
  {
   "cell_type": "code",
   "execution_count": 68,
   "metadata": {},
   "outputs": [
    {
     "data": {
      "text/plain": [
       "count    483.000000\n",
       "mean      77.434783\n",
       "std       88.237569\n",
       "min        0.000000\n",
       "25%       18.000000\n",
       "50%       52.000000\n",
       "75%      111.000000\n",
       "max      758.000000\n",
       "Name: Points, dtype: float64"
      ]
     },
     "execution_count": 68,
     "metadata": {},
     "output_type": "execute_result"
    }
   ],
   "source": [
    "# points stats of songs with id\n",
    "songs_df[(songs_df['id'] != '') & (songs_df['Points'] != '')]['Points'].astype('int64').describe()"
   ]
  },
  {
   "cell_type": "code",
   "execution_count": 70,
   "metadata": {},
   "outputs": [
    {
     "data": {
      "text/plain": [
       "<matplotlib.axes._subplots.AxesSubplot at 0x7fd874b8c390>"
      ]
     },
     "execution_count": 70,
     "metadata": {},
     "output_type": "execute_result"
    },
    {
     "data": {
      "image/png": "[encoded data removed]",
      "text/plain": [
       "<Figure size 432x288 with 1 Axes>"
      ]
     },
     "metadata": {},
     "output_type": "display_data"
    }
   ],
   "source": [
    "# ranks of songs with id\n",
    "songs_df[songs_df['id'] != '']['Rank'].astype('int64').hist(bins=27)"
   ]
  },
  {
   "cell_type": "code",
   "execution_count": null,
   "metadata": {},
   "outputs": [],
   "source": [
    "# countries of songs with id\n",
    "songs_df[songs_df['id'] != '']['Country'].hist()"
   ]
  },
  {
   "cell_type": "code",
   "execution_count": null,
   "metadata": {},
   "outputs": [],
   "source": []
  }
 ],
 "metadata": {
  "kernelspec": {
   "display_name": "Python 3",
   "language": "python",
   "name": "python3"
  },
  "language_info": {
   "codemirror_mode": {
    "name": "ipython",
    "version": 3
   },
   "file_extension": ".py",
   "mimetype": "text/x-python",
   "name": "python",
   "nbconvert_exporter": "python",
   "pygments_lexer": "ipython3",
   "version": "3.5.2"
  }
 },
 "nbformat": 4,
 "nbformat_minor": 2
}
