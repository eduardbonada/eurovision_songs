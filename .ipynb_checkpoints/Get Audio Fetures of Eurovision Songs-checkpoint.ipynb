{
 "cells": [
  {
   "cell_type": "markdown",
   "metadata": {},
   "source": [
    "# Get Audio Fetures of Eurovision Songs"
   ]
  },
  {
   "cell_type": "code",
   "execution_count": 1,
   "metadata": {},
   "outputs": [
    {
     "data": {
      "text/html": [
       "<style>.container { width:100% !important; }</style>"
      ],
      "text/plain": [
       "<IPython.core.display.HTML object>"
      ]
     },
     "metadata": {},
     "output_type": "display_data"
    }
   ],
   "source": [
    "from IPython.core.display import display, HTML\n",
    "display(HTML(\"<style>.container { width:100% !important; }</style>\"))"
   ]
  },
  {
   "cell_type": "code",
   "execution_count": 2,
   "metadata": {},
   "outputs": [],
   "source": [
    "import csv\n",
    "import json\n",
    "import pandas as pd\n",
    "import numpy as np\n",
    "from pprint import pprint\n",
    "import os.path\n",
    "import matplotlib.pyplot as plt\n",
    "%matplotlib nbagg\n",
    "#inline\n",
    "plt.style.use('seaborn-deep')"
   ]
  },
  {
   "cell_type": "code",
   "execution_count": 3,
   "metadata": {},
   "outputs": [],
   "source": [
    "# Create spotify wrapper object\n",
    "\n",
    "from spotify_wrapper import SpotifyWrapper\n",
    "sp = SpotifyWrapper(client_id = '9b23e599c83f45d9a93e6559d79b3f4a', \n",
    "                    client_secret = '710a69f7a7984a6c9c71c1682c46d7b5')"
   ]
  },
  {
   "cell_type": "markdown",
   "metadata": {},
   "source": [
    "## Get songs spotify IDs"
   ]
  },
  {
   "cell_type": "code",
   "execution_count": 4,
   "metadata": {},
   "outputs": [],
   "source": [
    "# read csv with all songs in finals \n",
    "songs = []\n",
    "with open('finalist_songs_with_ids.csv') as csv_file:\n",
    "    songs = [{k: v for k, v in row.items()} for row in csv.DictReader(csv_file, skipinitialspace=True)]"
   ]
  },
  {
   "cell_type": "code",
   "execution_count": 7,
   "metadata": {
    "collapsed": true
   },
   "outputs": [
    {
     "name": "stdout",
     "output_type": "stream",
     "text": [
      "Count of songs with id: 491\n",
      "1 NOT FOUND: No Angels - Disappear\n",
      "2 NOT FOUND: Sirusho - Qélé, Qélé (Քելե Քելե)\n",
      "3 NOT FOUND: Laka - Pokušaj\n",
      "4 NOT FOUND: Boaz Ma'uda - The Fire in Your Eyes\n",
      "6 NOT FOUND: Kraljevi Ulice and 75 cents - Romanca\n",
      "11 NOT FOUND: Pirates of the Sea - Wolves of the Sea\n",
      "13 NOT FOUND: Simon Mathew - All Night Long\n",
      "14 NOT FOUND: Diana Gurtskaya - Peace Will Come\n",
      "15 NOT FOUND: Ani Lorak - Shady Lady\n",
      "17 NOT FOUND: Elnur and Samir - Day After Day\n",
      "20 NOT FOUND: Jelena Tomašević feat. Bora Dugić - Oro (Оро)\n",
      "21 NOT FOUND: Dima Bilan - Believe\n",
      "22 NOT FOUND: Maria Haukaas Storeng - Hold On Be Strong\n",
      "23 NOT FOUND: Sasha Son - Love\n",
      "24 NOT FOUND: Noa and Mira Awad - There Must Be Another Way\n",
      "27 NOT FOUND: Igor Cukrov feat. Andrea - Lijepa Tena\n",
      "29 NOT FOUND: Yohanna[69] - Is It True?\n",
      "31 NOT FOUND: Inga and Anush - Jan Jan (Ջան Ջան)\n",
      "32 NOT FOUND: Anastasiya Prikhodko - Mamo (Мамо)\n",
      "33 NOT FOUND: AySel and Arash[74] - Always\n",
      "35 NOT FOUND: Nelly Ciobanu - Hora din Moldova\n",
      "38 NOT FOUND: Niels Brinck - Believe Again\n",
      "39 NOT FOUND: Alex Swings Oscar Sings![75] - Miss Kiss Kiss Bang\n",
      "41 NOT FOUND: Kejsi Tola - Carry Me in Your Dreams\n",
      "43 NOT FOUND: Svetlana Loboda - Be My Valentine\n",
      "45 NOT FOUND: Jade Ewen - It's My Time\n",
      "47 NOT FOUND: Soraya Arnelas - La noche es para mí\n",
      "51 NOT FOUND: SunStroke Project and Olia Tira - Run Away\n",
      "53 NOT FOUND: Vukašin Brajić - Thunder and Lightning\n",
      "55 NOT FOUND: Milan Stanković - Ovo je Balkan (Oво je Балкан)\n",
      "56 NOT FOUND: 3+2 feat Robert Wells - Butterflies\n",
      "57 NOT FOUND: Niamh Kavanagh - It's for You\n",
      "58 NOT FOUND: Giorgos Alkaios and Friends - OPA (ΩΠΑ)\n",
      "59 NOT FOUND: Josh Dubovie - That Sounds Good to Me\n",
      "62 NOT FOUND: Juliana Pasha - It's All About You\n",
      "66 NOT FOUND: Paula Seling and Ovi - Playing with Fire\n",
      "67 NOT FOUND: Peter Nalitch and Friends - Lost and Forgotten\n",
      "68 NOT FOUND: Eva Rivas - Apricot Stone\n",
      "70 NOT FOUND: Filipa Azevedo - Há dias assim\n",
      "71 NOT FOUND: Harel Skaat - Milim (מילים)\n",
      "72 NOT FOUND: Chanée and N'evergreen - In a Moment Like This\n",
      "76 NOT FOUND: Evelina Sašenko - C'est ma vie\n",
      "77 NOT FOUND: Kati Wolf - What About My Dreams?\n",
      "78 NOT FOUND: Jedward - Lipstick\n",
      "81 NOT FOUND: Loukas Giorkas feat. Stereo Mike - Watch My Dance\n",
      "82 NOT FOUND: Alexey Vorobyov - Get You\n",
      "86 NOT FOUND: Blue - I Can\n",
      "87 NOT FOUND: Zdob şi Zdub - So Lucky\n",
      "88 NOT FOUND: Lena - Taken by a Stranger\n",
      "89 NOT FOUND: Hotel FM - Change\n",
      "91 NOT FOUND: Ell & Nikki - Running Scared\n",
      "93 NOT FOUND: Sjonni's Friends - Coming Home\n",
      "94 NOT FOUND: Lucía Pérez - Que me quiten lo bailao\n",
      "95 NOT FOUND: Mika Newton - Angel\n",
      "96 NOT FOUND: Nina - Čaroban (Чаробан)\n",
      "100 NOT FOUND: Rona Nishliu - Suus3\n",
      "101 NOT FOUND: Donny Montell - Love Is Blind\n",
      "103 NOT FOUND: Buranovskiye Babushki - Party for Everybody\n",
      "104 NOT FOUND: Greta Salóme and Jónsi - Never Forget\n",
      "105 NOT FOUND: Ivi Adamou - La La Love\n",
      "107 NOT FOUND: Nina Zilli - L'amore è femmina (Out of Love)\n",
      "112 NOT FOUND: Soluna Samay - Should've Known Better\n",
      "119 NOT FOUND: Kaliopi - Crno i belo (Црно и бело)\n",
      "121 NOT FOUND: Željko Joksimović - Nije ljubav stvar (Није љубав ствар)\n",
      "122 NOT FOUND: Gaitana - Be My Guest\n",
      "123 NOT FOUND: Pasha Parfeny - Lăutar\n",
      "127 NOT FOUND: Krista Siegfrids - Marry Me\n",
      "128 NOT FOUND: ESDM - Contigo hasta el final\n",
      "132 NOT FOUND: Gianluca - Tomorrow\n",
      "133 NOT FOUND: Dina Garipova - What If\n",
      "135 NOT FOUND: Dorians - Lonely Planet\n",
      "137 NOT FOUND: Cezar - It's My Life\n",
      "138 NOT FOUND: Bonnie Tyler - Believe in Me\n",
      "141 NOT FOUND: Emmelie de Forest - Only Teardrops\n",
      "144 NOT FOUND: Koza Mostra feat. Agathon Iakovidis - Alcohol Is Free\n",
      "148 NOT FOUND: Nodi Tatishvili and Sophie Gelovani - Waterfall\n",
      "154 NOT FOUND: Carl Espen - Silent Storm\n",
      "156 NOT FOUND: Aram MP3 - Not Alone\n",
      "157 NOT FOUND: Sergej Ćetković - Moj svijet (Мој свијет)\n",
      "158 NOT FOUND: Donatan & Cleo - My Słowianie – We Are Slavic\n",
      "159 NOT FOUND: Freaky Fortune feat. RiskyKidd - Rise Up\n",
      "164 NOT FOUND: Tolmachevy Sisters - Shine\n",
      "165 NOT FOUND: Emma - La mia città\n",
      "170 NOT FOUND: András Kállay-Saunders - Running\n",
      "174 NOT FOUND: Valentina Monetta - Maybe\n",
      "175 NOT FOUND: Molly - Children of the Universe\n",
      "179 NOT FOUND: Elina Born & Stig Rästa - Goodbye to Yesterday\n",
      "182 NOT FOUND: Monika Linkytė & Vaidas Baumila - This Time\n",
      "184 NOT FOUND: Mørland & Debrah Scarlett - A Monster Like Me\n",
      "200 NOT FOUND: Polina Gagarina - A Million Voices\n",
      "210 NOT FOUND: Poli Genova - If Love Was a Crime\n",
      "212 NOT FOUND: Jamie-Lee - Ghost\n",
      "214 NOT FOUND: Michał Szpak - Color of Your Life\n",
      "216 NOT FOUND: Minus One - Alter Ego\n",
      "217 NOT FOUND: Sanja Vučić ZAA - Goodbye (Shelter)\n",
      "225 NOT FOUND: Nika Kocharov & Young Georgian Lolitaz - Midnight Gold\n",
      "228 NOT FOUND: Iveta Mukuchyan - LoveWave\n",
      "231 NOT FOUND: Naviband - Story of My Life\n",
      "234 NOT FOUND: O'G3NE - Lights and Shadows\n",
      "236 NOT FOUND: Joci Pápai - Origo\n",
      "238 NOT FOUND: Anja - Where I Am\n",
      "245 NOT FOUND: JOWST[d] - Grab the Moment\n",
      "248 NOT FOUND: Ilinca ft. Alex Florea - Yodel It!\n"
     ]
    }
   ],
   "source": [
    "# count songs with id\n",
    "count_songs_with_id = sum([ (1 if s['id']!='' else 0) for s in songs])\n",
    "print('Count of songs with id:',count_songs_with_id)\n",
    "\n",
    "# get spotify song ids\n",
    "for i,s in enumerate(songs[1000:]):\n",
    "        \n",
    "    # only search those songs without id\n",
    "    if s['id']=='':\n",
    "        \n",
    "        # search song info\n",
    "        song_info = sp.search_song(s['Artist'], s['Song'])\n",
    "        \n",
    "        # process received info\n",
    "        if song_info == None:\n",
    "            print('{} NOT FOUND: {} - {}'.format(i, s['Artist'], s['Song']))\n",
    "\n",
    "        else:\n",
    "            \n",
    "            # sanity checks\n",
    "            check_artist = 1 if sp.remove_accents(s['Artist'].lower()) == sp.remove_accents(song_info['artists'][0]['name'].lower()) else 0\n",
    "            check_title = 1 if sp.remove_accents(s['Song'].lower()) == sp.remove_accents(song_info['name'].lower()) else 0\n",
    "            \n",
    "            print('{} FOUND {} {}: {} - {} | {} - {}'.format(i, check_artist, check_title, \n",
    "                                                            s['Artist'], s['Song'], \n",
    "                                                            song_info['artists'][0]['name'], song_info['name']))\n",
    "\n",
    "            # store id in original object dictionary\n",
    "            s['id'] = song_info['id']\n",
    "\n",
    "            # store song with id in csv file\n",
    "            keys = s.keys()\n",
    "            with open('finalist_songs_with_ids.csv', 'w') as output_file:\n",
    "                w = csv.DictWriter(output_file, keys)\n",
    "                w.writeheader()\n",
    "                w.writerows(songs)"
   ]
  },
  {
   "cell_type": "code",
   "execution_count": 5,
   "metadata": {},
   "outputs": [
    {
     "name": "stdout",
     "output_type": "stream",
     "text": [
      "q= artist:Imaani\n",
      "Incognito - Love Born In Flames (feat. Imaani & Stuart Zender)\n",
      "The Layabouts - Shine - The Layabouts Vocal Mix\n",
      "Imaani - Found My Light - The Layabouts Vocal Mix\n",
      "The Layabouts - Stay - The Layabouts Vocal Mix\n",
      "Copyright - Wizeman (feat. Imaani) - Peaktime Vocal\n",
      "The Layabouts - Shine - The Layabouts Vocal Mix\n",
      "Incognito - The Way You Love (feat. Vanessa Haynes, Imaani & Mo Brandis)\n",
      "Reel People - Amazing featuring Tony Momrelle & Imaani\n",
      "Imaani - Tear Down\n",
      "Imaani - Tear Down - Tear Down Dub\n"
     ]
    }
   ],
   "source": [
    "# Explore particular song\n",
    "track = ''\n",
    "artist = 'Imaani'\n",
    "q = ('track:'+track if track != '' else '') + (' artist:'+artist if artist != '' else '')\n",
    "print('q='+q)\n",
    "for t in (sp.sp.search(q=q, type='track'))['tracks']['items']:\n",
    "    print(t['artists'][0]['name'] + ' - ' + t['name'])"
   ]
  },
  {
   "cell_type": "markdown",
   "metadata": {},
   "source": [
    "## Explore available songs"
   ]
  },
  {
   "cell_type": "code",
   "execution_count": 6,
   "metadata": {},
   "outputs": [],
   "source": [
    "# create dataframe\n",
    "songs_df = pd.DataFrame(songs)\n",
    "available_songs = songs_df[songs_df['id'] != '']"
   ]
  },
  {
   "cell_type": "code",
   "execution_count": 7,
   "metadata": {},
   "outputs": [
    {
     "data": {
      "text/plain": [
       "491"
      ]
     },
     "execution_count": 7,
     "metadata": {},
     "output_type": "execute_result"
    }
   ],
   "source": [
    "# number of songs with id\n",
    "available_songs['Artist'].count()"
   ]
  },
  {
   "cell_type": "code",
   "execution_count": 8,
   "metadata": {},
   "outputs": [
    {
     "data": {
      "text/plain": [
       "count    483.000000\n",
       "mean      77.434783\n",
       "std       88.237569\n",
       "min        0.000000\n",
       "25%       18.000000\n",
       "50%       52.000000\n",
       "75%      111.000000\n",
       "max      758.000000\n",
       "Name: Points, dtype: float64"
      ]
     },
     "execution_count": 8,
     "metadata": {},
     "output_type": "execute_result"
    }
   ],
   "source": [
    "# points stats of songs with id\n",
    "available_songs[available_songs['Points'] != '']['Points'].astype('int64').describe()"
   ]
  },
  {
   "cell_type": "code",
   "execution_count": 9,
   "metadata": {},
   "outputs": [
    {
     "data": {
      "text/plain": [
       "<matplotlib.axes._subplots.AxesSubplot at 0x7f4301067278>"
      ]
     },
     "execution_count": 9,
     "metadata": {},
     "output_type": "execute_result"
    },
    {
     "data": {
      "image/png": "[encoded data removed]",
      "text/plain": [
       "<Figure size 432x288 with 1 Axes>"
      ]
     },
     "metadata": {},
     "output_type": "display_data"
    }
   ],
   "source": [
    "# years of songs with id\n",
    "available_songs['Year'].astype('int64').hist(bins=20)"
   ]
  },
  {
   "cell_type": "code",
   "execution_count": 10,
   "metadata": {},
   "outputs": [
    {
     "data": {
      "text/plain": [
       "<matplotlib.axes._subplots.AxesSubplot at 0x7f42fe788160>"
      ]
     },
     "execution_count": 10,
     "metadata": {},
     "output_type": "execute_result"
    },
    {
     "data": {
      "image/png": "[encoded data removed]",
      "text/plain": [
       "<Figure size 432x288 with 1 Axes>"
      ]
     },
     "metadata": {},
     "output_type": "display_data"
    }
   ],
   "source": [
    "# ranks of songs with id\n",
    "available_songs['Rank'].astype('int64').hist(bins=27)"
   ]
  },
  {
   "cell_type": "code",
   "execution_count": 36,
   "metadata": {},
   "outputs": [
    {
     "data": {
      "text/plain": [
       "<matplotlib.axes._subplots.AxesSubplot at 0x7f42fe5f8860>"
      ]
     },
     "execution_count": 36,
     "metadata": {},
     "output_type": "execute_result"
    },
    {
     "data": {
      "image/png": "[encoded data removed]",
      "text/plain": [
       "<Figure size 1080x360 with 1 Axes>"
      ]
     },
     "metadata": {},
     "output_type": "display_data"
    }
   ],
   "source": [
    "# countries of songs with id\n",
    "available_songs['Country'].value_counts().plot(kind='bar', figsize=(15,5))"
   ]
  },
  {
   "cell_type": "markdown",
   "metadata": {},
   "source": [
    "## Get Audio features of songs"
   ]
  },
  {
   "cell_type": "code",
   "execution_count": 74,
   "metadata": {},
   "outputs": [
    {
     "name": "stdout",
     "output_type": "stream",
     "text": [
      "491 songs to download\n",
      "Api Call 0 from 0 to 19\n",
      "Api Call 1 from 20 to 39\n",
      "Api Call 2 from 40 to 59\n",
      "Api Call 3 from 60 to 79\n",
      "Api Call 4 from 80 to 99\n",
      "Api Call 5 from 100 to 119\n",
      "Api Call 6 from 120 to 139\n",
      "Api Call 7 from 140 to 159\n",
      "Api Call 8 from 160 to 179\n",
      "Api Call 9 from 180 to 199\n",
      "Api Call 10 from 200 to 219\n",
      "Api Call 11 from 220 to 239\n",
      "Api Call 12 from 240 to 259\n",
      "Api Call 13 from 260 to 279\n",
      "Api Call 14 from 280 to 299\n",
      "Api Call 15 from 300 to 319\n",
      "Api Call 16 from 320 to 339\n",
      "Api Call 17 from 340 to 359\n",
      "Api Call 18 from 360 to 379\n",
      "Api Call 19 from 380 to 399\n",
      "Api Call 20 from 400 to 419\n",
      "Api Call 21 from 420 to 439\n",
      "Api Call 22 from 440 to 459\n",
      "Api Call 23 from 460 to 479\n",
      "Api Call 24 from 480 to 490\n"
     ]
    }
   ],
   "source": [
    "tracks_full_info = list(available_songs.T.to_dict().values()) # list of dicts - dicts must have field 'id'\n",
    "num_tracks_per_api_call = 20\n",
    "num_tracks = len(tracks_full_info)\n",
    "\n",
    "print('{} songs to download'.format(num_tracks))\n",
    "\n",
    "for api_call in range(0, int(np.ceil(num_tracks/num_tracks_per_api_call))):\n",
    "        \n",
    "    # set first/last tracks to add in the call    \n",
    "    first_track_idx = api_call * num_tracks_per_api_call\n",
    "    last_track_idx = (api_call+1) * num_tracks_per_api_call - 1\n",
    "    last_track_idx = last_track_idx if last_track_idx <= num_tracks else num_tracks - 1\n",
    "    \n",
    "    print('Api Call {} from {} to {}'.format(api_call,first_track_idx,last_track_idx))\n",
    "        \n",
    "    # get tracks audio features\n",
    "    tracks_features = sp.get_audio_features_of_tracks([t['id'] for t in tracks_full_info[first_track_idx:last_track_idx+1]])\n",
    "        \n",
    "    # put back audio features to track object\n",
    "    for tf in tracks_features:\n",
    "        found_track = list(filter(lambda tr: tr['id'] == tf['id'], tracks_full_info))[0]\n",
    "        #found_track['audio_features'] = tf\n",
    "        found_track.update(tf)\n",
    "\n",
    "# persist to file (json)\n",
    "with open('available_tracks_info.json', 'w') as fp:\n",
    "    json.dump(tracks_full_info, fp)"
   ]
  },
  {
   "cell_type": "code",
   "execution_count": 75,
   "metadata": {},
   "outputs": [
    {
     "name": "stdout",
     "output_type": "stream",
     "text": [
      "491 tracks read\n"
     ]
    }
   ],
   "source": [
    "# read from file if already downloaded\n",
    "tracks_full_info = []\n",
    "track_ids_read = []\n",
    "if os.path.isfile('available_tracks_info.json'):\n",
    "    json_data=open('available_tracks_info.json').read()\n",
    "    tracks_full_info = json.loads(json_data)\n",
    "    track_ids_read = [t['id'] for t in tracks_full_info]\n",
    "    print(\"{} tracks read\".format(len(track_ids_read)))"
   ]
  },
  {
   "cell_type": "markdown",
   "metadata": {},
   "source": [
    "## Explore audio features"
   ]
  },
  {
   "cell_type": "code",
   "execution_count": 76,
   "metadata": {},
   "outputs": [],
   "source": [
    "# Create pandas dataframe\n",
    "tracks_df = pd.DataFrame.from_dict(tracks_full_info).drop(['analysis_url', 'track_href', 'uri', 'id'], 1)"
   ]
  },
  {
   "cell_type": "code",
   "execution_count": 89,
   "metadata": {},
   "outputs": [
    {
     "name": "stdout",
     "output_type": "stream",
     "text": [
      "59 artists read - 9646 tracks read\n"
     ]
    }
   ],
   "source": [
    "# read artists info to compare to eurovision songs\n",
    "artists_tracks_full_info = []\n",
    "artists_read = []\n",
    "if os.path.isfile('../festivals2018/tracks_full_info.json'):\n",
    "    json_data=open('../festivals2018/tracks_full_info.json').read()\n",
    "    artists_tracks_full_info = json.loads(json_data)\n",
    "    artists_read = set([sp.remove_accents(a['artist_name'].lower()) for a in artists_tracks_full_info])\n",
    "    print(\"{} artists read - {} tracks read\".format(len(artists_read),len(artists_tracks_full_info)))\n",
    "\n",
    "# Create pandas dataframe\n",
    "artists_tracks_df = pd.DataFrame.from_dict(artists_tracks_full_info).drop(['analysis_url', 'album_id', 'artist_id', 'track_href', 'uri', 'type', 'id'], 1)"
   ]
  },
  {
   "cell_type": "code",
   "execution_count": 103,
   "metadata": {},
   "outputs": [
    {
     "name": "stdout",
     "output_type": "stream",
     "text": [
      "148 songs in subgroup \"Top-5\"\n",
      "111 songs in subgroup \"Pau Vallvé\"\n"
     ]
    },
    {
     "ename": "AttributeError",
     "evalue": "'dict' object has no attribute 'count'",
     "output_type": "error",
     "traceback": [
      "\u001b[0;31m---------------------------------------------------------------------------\u001b[0m",
      "\u001b[0;31mAttributeError\u001b[0m                            Traceback (most recent call last)",
      "\u001b[0;32m<ipython-input-103-de0d9555815a>\u001b[0m in \u001b[0;36m<module>\u001b[0;34m()\u001b[0m\n\u001b[1;32m     28\u001b[0m \u001b[0;32mfor\u001b[0m \u001b[0mt\u001b[0m \u001b[0;32min\u001b[0m \u001b[0mtracks_subgroups\u001b[0m\u001b[0;34m:\u001b[0m\u001b[0;34m\u001b[0m\u001b[0m\n\u001b[1;32m     29\u001b[0m     \u001b[0mprint\u001b[0m\u001b[0;34m(\u001b[0m\u001b[0;34m'{} songs in subgroup \"{}\"'\u001b[0m\u001b[0;34m.\u001b[0m\u001b[0mformat\u001b[0m\u001b[0;34m(\u001b[0m\u001b[0mlen\u001b[0m\u001b[0;34m(\u001b[0m\u001b[0mt\u001b[0m\u001b[0;34m[\u001b[0m\u001b[0;34m'df'\u001b[0m\u001b[0;34m]\u001b[0m\u001b[0;34m)\u001b[0m\u001b[0;34m,\u001b[0m \u001b[0mt\u001b[0m\u001b[0;34m[\u001b[0m\u001b[0;34m'label'\u001b[0m\u001b[0;34m]\u001b[0m\u001b[0;34m)\u001b[0m\u001b[0;34m)\u001b[0m\u001b[0;34m\u001b[0m\u001b[0m\n\u001b[0;32m---> 30\u001b[0;31m \u001b[0mprint\u001b[0m\u001b[0;34m(\u001b[0m\u001b[0;34m'{} single songs'\u001b[0m\u001b[0;34m.\u001b[0m\u001b[0mformat\u001b[0m\u001b[0;34m(\u001b[0m\u001b[0msingle_tracks\u001b[0m\u001b[0;34m.\u001b[0m\u001b[0mcount\u001b[0m\u001b[0;34m(\u001b[0m\u001b[0;34m)\u001b[0m\u001b[0;34m)\u001b[0m\u001b[0;34m)\u001b[0m\u001b[0;34m\u001b[0m\u001b[0m\n\u001b[0m\u001b[1;32m     31\u001b[0m \u001b[0;34m\u001b[0m\u001b[0m\n\u001b[1;32m     32\u001b[0m \u001b[0mfeatures\u001b[0m \u001b[0;34m=\u001b[0m \u001b[0;34m[\u001b[0m\u001b[0;34m'acousticness'\u001b[0m\u001b[0;34m,\u001b[0m\u001b[0;34m'danceability'\u001b[0m\u001b[0;34m,\u001b[0m\u001b[0;34m'energy'\u001b[0m\u001b[0;34m,\u001b[0m\u001b[0;34m'instrumentalness'\u001b[0m\u001b[0;34m,\u001b[0m\u001b[0;34m'key'\u001b[0m\u001b[0;34m,\u001b[0m\u001b[0;34m'liveness'\u001b[0m\u001b[0;34m,\u001b[0m            \u001b[0;34m'loudness'\u001b[0m\u001b[0;34m,\u001b[0m \u001b[0;34m'mode'\u001b[0m\u001b[0;34m,\u001b[0m \u001b[0;34m'speechiness'\u001b[0m\u001b[0;34m,\u001b[0m \u001b[0;34m'tempo'\u001b[0m\u001b[0;34m,\u001b[0m \u001b[0;34m'time_signature'\u001b[0m\u001b[0;34m,\u001b[0m \u001b[0;34m'valence'\u001b[0m\u001b[0;34m]\u001b[0m\u001b[0;34m;\u001b[0m\u001b[0;34m\u001b[0m\u001b[0m\n",
      "\u001b[0;31mAttributeError\u001b[0m: 'dict' object has no attribute 'count'"
     ]
    }
   ],
   "source": [
    "# plot feautures kde-style\n",
    "\n",
    "from sklearn.neighbors.kde import KernelDensity\n",
    "\n",
    "# split dataframes into different groups to compare\n",
    "\n",
    "tracks_subgroups = [\n",
    "    {\n",
    "        'label': 'Top-5', 'color': 'green', 'linewidth': 2, 'linestyle': '-', \n",
    "        'df' : tracks_df[tracks_df['Rank'].astype('int') <= 5]\n",
    "    },\n",
    "    #{\n",
    "    #    'label': 'Rest', 'color': 'orange', 'linewidth': 2, 'linestyle': ':', \n",
    "    #    'df': tracks_df[tracks_df['Rank'].astype('int') > 5]\n",
    "    #},\n",
    "    {\n",
    "        'label': 'Pau Vallvé', 'color': 'blue', 'linewidth': 2, 'linestyle': ':', \n",
    "        'df': artists_tracks_df[artists_tracks_df['artist_name'] == 'Pau Vallvé']\n",
    "    }\n",
    "]\n",
    "\n",
    "single_tracks = [\n",
    "    {\n",
    "        'label': 'Protagonistes', 'color': 'red', 'linewidth': 2, 'linestyle': '-', \n",
    "        'df': tracks_subgroups[1]['df'][tracks_subgroups[1]['df']['name'] == 'Protagonistes']\n",
    "    }\n",
    "\n",
    "\n",
    "for t in tracks_subgroups:\n",
    "    print('{} songs in subgroup \"{}\"'.format(len(t['df']), t['label']))\n",
    "print('{} single songs'.format(single_tracks.count()))\n",
    "    \n",
    "features = ['acousticness','danceability','energy','instrumentalness','key','liveness',\\\n",
    "            'loudness', 'mode', 'speechiness', 'tempo', 'time_signature', 'valence'];\n",
    "\n",
    "# plot with matplotlib\n",
    "fig, ax = plt.subplots(4,3)\n",
    "fig.set_figheight(13)\n",
    "fig.set_figwidth(13)\n",
    "i=0; j=0; # init at top-left subplot\n",
    "\n",
    "for f in features:\n",
    "    \n",
    "    for t in tracks_subgroups:\n",
    "                \n",
    "        # create arrays with data\n",
    "        x = np.array(t['df'][f])[:,np.newaxis];\n",
    "        x_plot = np.linspace(x.min(), x.max(), 1000)[:, np.newaxis];\n",
    "\n",
    "        # create kde model and fit with x data\n",
    "        bandwidth = np.abs((0.1*x.mean()*x.std()));\n",
    "        bandwidth = 0.1 if bandwidth<0.1 else bandwidth;\n",
    "        kde_fit = KernelDensity(kernel='gaussian', bandwidth=bandwidth).fit(x)\n",
    "\n",
    "        # score_samples() returns the log-likelihood of the samples\n",
    "        log_pdf = kde_fit.score_samples(x_plot)\n",
    "        kde = np.exp(log_pdf)\n",
    "\n",
    "        # normalize kde area = 1\n",
    "        kde = kde/sum(kde)\n",
    "\n",
    "        # plot\n",
    "        ax[i,j].plot(x_plot, kde, \n",
    "                     color=t['color'], \n",
    "                     linewidth=t['linewidth'], \n",
    "                     linestyle=t['linestyle'], \n",
    "                     label=t['label'])\n",
    "        ax[i,j].set_title(f)\n",
    "        ax[i,j].legend(loc='upper right')\n",
    "        ax[i,j].set_yticks([])\n",
    "\n",
    "    # jump to next subplot\n",
    "    j=j+1; # next col subplot\n",
    "    if(j==3):\n",
    "        # if last col subplot\n",
    "        j=0; # first col subplot\n",
    "        i=i+1; # next row subplot\n",
    "\n",
    "# store plot to file\n",
    "#filename = 'plots/'+' - '.join([sp.remove_accents(a['name'].lower()) for a in artists_to_compare]) + '.png'\n",
    "#fig.savefig(filename, dpi=fig.dpi, bbox_inches='tight', pad_inches=0.5)"
   ]
  },
  {
   "cell_type": "code",
   "execution_count": 96,
   "metadata": {
    "scrolled": true
   },
   "outputs": [
    {
     "data": {
      "text/html": [
       "<div>\n",
       "<style scoped>\n",
       "    .dataframe tbody tr th:only-of-type {\n",
       "        vertical-align: middle;\n",
       "    }\n",
       "\n",
       "    .dataframe tbody tr th {\n",
       "        vertical-align: top;\n",
       "    }\n",
       "\n",
       "    .dataframe thead th {\n",
       "        text-align: right;\n",
       "    }\n",
       "</style>\n",
       "<table border=\"1\" class=\"dataframe\">\n",
       "  <thead>\n",
       "    <tr style=\"text-align: right;\">\n",
       "      <th></th>\n",
       "      <th>acousticness</th>\n",
       "      <th>album_name</th>\n",
       "      <th>album_release_date</th>\n",
       "      <th>artist_followers</th>\n",
       "      <th>artist_name</th>\n",
       "      <th>artist_popularity</th>\n",
       "      <th>danceability</th>\n",
       "      <th>duration_ms</th>\n",
       "      <th>energy</th>\n",
       "      <th>explicit</th>\n",
       "      <th>...</th>\n",
       "      <th>key</th>\n",
       "      <th>liveness</th>\n",
       "      <th>loudness</th>\n",
       "      <th>mode</th>\n",
       "      <th>name</th>\n",
       "      <th>speechiness</th>\n",
       "      <th>tempo</th>\n",
       "      <th>time_signature</th>\n",
       "      <th>track_number</th>\n",
       "      <th>valence</th>\n",
       "    </tr>\n",
       "  </thead>\n",
       "  <tbody>\n",
       "    <tr>\n",
       "      <th>540</th>\n",
       "      <td>0.0156</td>\n",
       "      <td>2010</td>\n",
       "      <td>2010-11-15</td>\n",
       "      <td>8085</td>\n",
       "      <td>Pau Vallvé</td>\n",
       "      <td>39</td>\n",
       "      <td>0.541</td>\n",
       "      <td>241906</td>\n",
       "      <td>0.737</td>\n",
       "      <td>False</td>\n",
       "      <td>...</td>\n",
       "      <td>6</td>\n",
       "      <td>0.116</td>\n",
       "      <td>-7.903</td>\n",
       "      <td>1</td>\n",
       "      <td>Protagonistes</td>\n",
       "      <td>0.035</td>\n",
       "      <td>130.037</td>\n",
       "      <td>4</td>\n",
       "      <td>1</td>\n",
       "      <td>0.897</td>\n",
       "    </tr>\n",
       "  </tbody>\n",
       "</table>\n",
       "<p>1 rows × 21 columns</p>\n",
       "</div>"
      ],
      "text/plain": [
       "     acousticness album_name album_release_date  artist_followers artist_name  \\\n",
       "540        0.0156       2010         2010-11-15              8085  Pau Vallvé   \n",
       "\n",
       "     artist_popularity  danceability  duration_ms  energy  explicit   ...     \\\n",
       "540                 39         0.541       241906   0.737     False   ...      \n",
       "\n",
       "     key  liveness  loudness  mode           name speechiness    tempo  \\\n",
       "540    6     0.116    -7.903     1  Protagonistes       0.035  130.037   \n",
       "\n",
       "     time_signature  track_number  valence  \n",
       "540               4             1    0.897  \n",
       "\n",
       "[1 rows x 21 columns]"
      ]
     },
     "execution_count": 96,
     "metadata": {},
     "output_type": "execute_result"
    }
   ],
   "source": [
    "tracks_subgroups[1]['df'][tracks_subgroups[1]['df']['name'] == 'Protagonistes']"
   ]
  },
  {
   "cell_type": "code",
   "execution_count": 104,
   "metadata": {},
   "outputs": [
    {
     "data": {
      "text/plain": [
       "5"
      ]
     },
     "execution_count": 104,
     "metadata": {},
     "output_type": "execute_result"
    }
   ],
   "source": [
    "len(single_tracks)"
   ]
  },
  {
   "cell_type": "code",
   "execution_count": null,
   "metadata": {},
   "outputs": [],
   "source": []
  },
  {
   "cell_type": "code",
   "execution_count": null,
   "metadata": {},
   "outputs": [],
   "source": []
  }
 ],
 "metadata": {
  "kernelspec": {
   "display_name": "Python 3",
   "language": "python",
   "name": "python3"
  },
  "language_info": {
   "codemirror_mode": {
    "name": "ipython",
    "version": 3
   },
   "file_extension": ".py",
   "mimetype": "text/x-python",
   "name": "python",
   "nbconvert_exporter": "python",
   "pygments_lexer": "ipython3",
   "version": "3.5.2"
  }
 },
 "nbformat": 4,
 "nbformat_minor": 2
}
